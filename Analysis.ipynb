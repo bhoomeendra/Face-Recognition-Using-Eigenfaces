{
 "cells": [
  {
   "cell_type": "code",
   "execution_count": 202,
   "id": "e205d2a8",
   "metadata": {},
   "outputs": [],
   "source": [
    "import matplotlib.pyplot as plt\n",
    "import numpy as np\n",
    "from sklearn.datasets import fetch_lfw_people\n",
    "import cv2\n",
    "\n",
    "\n",
    "minDatapoints  = 50\n",
    "\n",
    "lfw_people = fetch_lfw_people(min_faces_per_person=minDatapoints,resize=0.4)\n",
    "n_samples, h, w = lfw_people.images.shape\n"
   ]
  },
  {
   "cell_type": "code",
   "execution_count": 203,
   "id": "1b78b24b",
   "metadata": {},
   "outputs": [
    {
     "name": "stdout",
     "output_type": "stream",
     "text": [
      "Total dataset size:\n",
      "n_samples: 1560\n",
      "n_features: 1850\n",
      "n_classes: 12\n"
     ]
    }
   ],
   "source": [
    "\n",
    "# for machine learning we use the 2 data directly (as relative pixel\n",
    "# positions info is ignored by this model)\n",
    "X_main = lfw_people.data\n",
    "n_features = X.shape[1]\n",
    "\n",
    "# the label to predict is the id of the person\n",
    "y_main = lfw_people.target\n",
    "target_names = lfw_people.target_names\n",
    "n_classes_main = target_names.shape[0]\n",
    "\n",
    "print(\"Total dataset size:\")\n",
    "print(\"n_samples: %d\" % n_samples)\n",
    "print(\"n_features: %d\" % n_features)\n",
    "print(\"n_classes: %d\" % n_classes_main)\n"
   ]
  },
  {
   "cell_type": "code",
   "execution_count": 185,
   "id": "e9fdb16f",
   "metadata": {},
   "outputs": [
    {
     "data": {
      "text/plain": [
       "62"
      ]
     },
     "execution_count": 185,
     "metadata": {},
     "output_type": "execute_result"
    }
   ],
   "source": []
  },
  {
   "cell_type": "markdown",
   "id": "b91d923d",
   "metadata": {},
   "source": [
    "### Vary Number of classes and Perform the same analysis"
   ]
  },
  {
   "cell_type": "code",
   "execution_count": 205,
   "id": "c4893ef2",
   "metadata": {},
   "outputs": [],
   "source": [
    "\n",
    "n_classes = 5 #No of different classses in the Dataset\n",
    "\n",
    "classLabel = np.random.choice(np.arange(n_classes_main),n_classes,replace=False)\n",
    "\n",
    "X = list()\n",
    "y = list()\n",
    "\n",
    "for i in range(n_samples):\n",
    "    if(y_main[i] in classLabel ):\n",
    "        X.append(X_main[i])\n",
    "        y.append(y_main[i])\n",
    "\n",
    "X = np.asarray(X)\n",
    "y = np.asarray(y)"
   ]
  },
  {
   "cell_type": "markdown",
   "id": "c2aa1cb3",
   "metadata": {},
   "source": [
    "### Making 8 Different Datasets with Increasing no of samples per class"
   ]
  },
  {
   "cell_type": "code",
   "execution_count": 206,
   "id": "9bc71f90",
   "metadata": {},
   "outputs": [],
   "source": [
    "perclass_train_samples = [5,10,15,20,25,30,35,40]\n",
    "perclass_test_samples  = [1, 2, 3, 5, 6, 7,8,10]\n",
    "\n",
    "Train = list()\n",
    "Test  = list()\n",
    "for i in range(len(perclass_train_samples)):\n",
    "    \n",
    "    Train_sample_class_count = np.zeros((n_classes_main))\n",
    "    Test_sample_class_count  = np.zeros((n_classes_main))\n",
    "    \n",
    "    train_sample = perclass_train_samples[i]\n",
    "    test_sample  = perclass_test_samples[i]\n",
    "    \n",
    "    X_train = list()\n",
    "    y_train = list()\n",
    "    X_test  = list()\n",
    "    y_test  = list()\n",
    "    for i in range(y.shape[0]):\n",
    "        if(Train_sample_class_count[y[i]] < train_sample):\n",
    "            \n",
    "            X_train.append(X[i])\n",
    "            y_train.append(y[i])\n",
    "            Train_sample_class_count[y[i]]+=1\n",
    "            \n",
    "        elif(Test_sample_class_count[y[i]] < test_sample):\n",
    "            \n",
    "            X_test.append(X[i])\n",
    "            y_test.append(y[i])\n",
    "            \n",
    "            Test_sample_class_count[y[i]]+=1\n",
    "            \n",
    "    #print(len(X_train),\"==\",train_sample*n_classes)\n",
    "    #print(len(X_test),\"==\",test_sample*n_classes)\n",
    "    Train.append([np.asarray(X_train),np.asarray(y_train)])\n",
    "    Test.append([np.asarray(X_test),np.asarray(y_test)])"
   ]
  },
  {
   "cell_type": "markdown",
   "id": "e806d7e2",
   "metadata": {},
   "source": [
    "### Appling the Eigen Faces method 8 dataset"
   ]
  },
  {
   "cell_type": "code",
   "execution_count": 207,
   "id": "34deb0a6",
   "metadata": {},
   "outputs": [
    {
     "name": "stdout",
     "output_type": "stream",
     "text": [
      "Accuracy :  0.4\n",
      "Accuracy :  0.4\n",
      "Accuracy :  0.4\n",
      "Accuracy :  0.56\n",
      "Accuracy :  0.36666666666666664\n",
      "Accuracy :  0.6285714285714286\n",
      "Accuracy :  0.65\n",
      "Accuracy :  0.74\n"
     ]
    }
   ],
   "source": [
    "from sklearn.decomposition import PCA\n",
    "\n",
    "from sklearn.neighbors import KNeighborsClassifier\n",
    "\n",
    "PCAacc = list()\n",
    "\n",
    "for i in range(len(Train)):\n",
    "    # Taking the i the Dataset\n",
    "    X_train , y_train  = Train[i]\n",
    "    X_test  , y_test   = Test[i]\n",
    "    \n",
    "    n_components = min(20, X_train.shape[0])\n",
    "    #print( \" Components Used : \" , n_components)\n",
    "    #Calculating the average \n",
    "    avgFace = np.mean(X_train,axis = 0)\n",
    "    \n",
    "    #Centering the data\n",
    "    X_train_centred = X_train - avgFace\n",
    "    X_test_centred  = X_test  - avgFace\n",
    "    \n",
    "    #Appling PCA\n",
    "    pca = PCA(n_components=n_components,whiten='True',svd_solver=\"randomized\").fit(X_train_centred)\n",
    "    X_train_pca = pca.transform(X_train_centred)\n",
    "    X_test_pca = pca.transform(X_test_centred)\n",
    "\n",
    "    ####################################\n",
    "    # Prediction \n",
    "    knn = KNeighborsClassifier(n_neighbors=4)\n",
    "    knn.fit(X_train_pca,y_train)\n",
    "    correct=0\n",
    "    incorrect=0\n",
    "    predictedLabel = knn.predict(X_test_pca)\n",
    "    countLabel = np.zeros(n_classes_main)\n",
    "    for i in range(len(y_test)):\n",
    "        countLabel[y_test[i]]+=1\n",
    "        if(y_test[i] ==predictedLabel[i]):\n",
    "            correct=correct+1\n",
    "        else:\n",
    "            \n",
    "            incorrect=incorrect+1\n",
    "    #print(\"Count Label : \",countLabel)\n",
    "    #print(\"Accuracy : \",correct/(incorrect+correct))\n",
    "    \n",
    "    PCAacc.append(correct/(incorrect+correct))\n",
    "    "
   ]
  },
  {
   "cell_type": "code",
   "execution_count": 208,
   "id": "dbd9bbd8",
   "metadata": {},
   "outputs": [
    {
     "name": "stdout",
     "output_type": "stream",
     "text": [
      "Accuracy:  0.2\n",
      "Accuracy:  0.4\n",
      "Accuracy:  0.7333333333333333\n",
      "Accuracy:  0.64\n",
      "Accuracy:  0.8333333333333334\n",
      "Accuracy:  0.8857142857142857\n",
      "Accuracy:  0.725\n",
      "Accuracy:  0.78\n"
     ]
    }
   ],
   "source": [
    "from sklearn.discriminant_analysis import LinearDiscriminantAnalysis as LDA\n",
    "\n",
    "LDAacc = list()\n",
    "for i in range(len(Train)):\n",
    "    # Taking the i the Dataset\n",
    "    X_train , y_train  = Train[i]\n",
    "    X_test  , y_test   = Test[i]\n",
    "    \n",
    "    clf = LDA()\n",
    "    clf.fit(X_train, y_train)\n",
    "\n",
    "    predictions = clf.predict(X_test)\n",
    "    correct = 0\n",
    "    for i in range(y_test.shape[0]):\n",
    "        if predictions[i]==y_test[i]:\n",
    "            correct += 1\n",
    "    #print(\"Accuracy: \", (correct/len(predictions)))\n",
    "    LDAacc.append(correct/len(predictions))\n",
    "    \n",
    "    "
   ]
  },
  {
   "cell_type": "code",
   "execution_count": 209,
   "id": "668bffba",
   "metadata": {},
   "outputs": [
    {
     "data": {
      "image/png": "[encoded data removed]",
      "text/plain": [
       "<Figure size 648x360 with 1 Axes>"
      ]
     },
     "metadata": {
      "needs_background": "light"
     },
     "output_type": "display_data"
    },
    {
     "name": "stdout",
     "output_type": "stream",
     "text": [
      "[0, 3, 5, 9, 11]\n"
     ]
    }
   ],
   "source": [
    "plt.figure(figsize = ( 9,5 ))\n",
    "\n",
    "plt.title(\"Accuracy for different Samples size of Data with \"+str(n_classes) + \" Classes\")\n",
    "plt.xlabel(\"perclass train samples\")\n",
    "plt.ylabel(\"Accuracy\");\n",
    "plt.plot( perclass_train_samples ,LDAacc,'--o',color='r',markerfacecolor='blue')\n",
    "plt.plot( perclass_train_samples,PCAacc,'--o',color='b',markerfacecolor='red')\n",
    "plt.show()\n",
    "\n",
    "print(sorted(classLabel))"
   ]
  },
  {
   "cell_type": "code",
   "execution_count": 162,
   "id": "25a6d299",
   "metadata": {},
   "outputs": [
    {
     "name": "stdout",
     "output_type": "stream",
     "text": [
      "[0, 2, 3, 6, 7, 8, 10]\n"
     ]
    }
   ],
   "source": []
  },
  {
   "cell_type": "code",
   "execution_count": null,
   "id": "a5177dd4",
   "metadata": {},
   "outputs": [],
   "source": []
  }
 ],
 "metadata": {
  "kernelspec": {
   "display_name": "Python 3 (ipykernel)",
   "language": "python",
   "name": "python3"
  },
  "language_info": {
   "codemirror_mode": {
    "name": "ipython",
    "version": 3
   },
   "file_extension": ".py",
   "mimetype": "text/x-python",
   "name": "python",
   "nbconvert_exporter": "python",
   "pygments_lexer": "ipython3",
   "version": "3.9.5"
  }
 },
 "nbformat": 4,
 "nbformat_minor": 5
}
